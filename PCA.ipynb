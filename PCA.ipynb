{
 "cells": [
  {
   "cell_type": "markdown",
   "metadata": {},
   "source": [
    "# Principal Component Analysis (PCA)"
   ]
  },
  {
   "cell_type": "code",
   "execution_count": 1,
   "metadata": {},
   "outputs": [],
   "source": [
    "import numpy as np\n",
    "import matplotlib.pyplot as plt"
   ]
  },
  {
   "cell_type": "code",
   "execution_count": 15,
   "metadata": {},
   "outputs": [],
   "source": [
    "# # Creates a random number generator with a fixed seed of 1\n",
    "# rng = np.random.RandomState(1)\n",
    "\n",
    "# # Random Matrxi Multiplication for Data Geenration\n",
    "# # rng.rand(2, 2): Generates a 2 x 2 matrix of random numbers b/w 0 and 1\n",
    "# # rng.randn(2, 200): Generated a 2 x 200 matrix of random numbers drawn form a standard normal distribution(mean 0, sd 1)\n",
    "# # np.dot(...): Performs a dot product. Result will be 2 x 200 matrix. Taking the transpose .T changes it to a 200 x 2 matrix, with each row representing a point in a 2D space\n",
    "# X = np.dot(rng.rand(2,2), rng.randn(2, 200)).T\n",
    "\n",
    "# # X[:,0]: All x-coordiantes of the points\n",
    "# # X[:, 1]: All y-coordinates\n",
    "# plt.scatter(X[:, 0], X[:, 1])\n",
    "\n",
    "# # Set the plot to have equal scaling on both axes\n",
    "# plt.axis('equal')\n",
    "\n",
    "# print(X.shape)"
   ]
  },
  {
   "cell_type": "code",
   "execution_count": 16,
   "metadata": {},
   "outputs": [],
   "source": [
    "from sklearn.datasets import load_iris\n",
    "from sklearn.preprocessing import StandardScaler"
   ]
  },
  {
   "cell_type": "code",
   "execution_count": null,
   "metadata": {},
   "outputs": [],
   "source": [
    "# Load Dataset\n",
    "data = load_iris()\n",
    "\n",
    "# Select the first two features for 2D visualizatio\n",
    "X = data.data[:, :2]"
   ]
  },
  {
   "cell_type": "code",
   "execution_count": 18,
   "metadata": {},
   "outputs": [],
   "source": [
    "# Stnadarize the data\n",
    "scaler = StandardScaler()\n",
    "X = scaler.fit_transform(X)"
   ]
  },
  {
   "cell_type": "code",
   "execution_count": 19,
   "metadata": {},
   "outputs": [],
   "source": [
    "def PCA(X, n_components=1):\n",
    "    # Step 1: Center the data\n",
    "    # First it calcualtes the mean of X\n",
    "    mean = np.mean(X, axis=0)\n",
    "\n",
    "    # Then, it centers the data by subtracting the mean from each data points\n",
    "    # This is essential in PCA since it ensures that the PC represents the directions of max variance, not influenced by the absolute values of the features\n",
    "    X = (X - mean)\n",
    "\n",
    "    # Step 2: Find covariance\n",
    "    # We can direct do X.T @ X right away since we already center the data\n",
    "    # X.T @ X performs matrix multiplication \n",
    "    cov = (X.T @ X) / (X.shape[0] - 1)\n",
    "    print (\"Covariance Matrix: \", cov)\n",
    "\n",
    "    # Step 3: Find the eigenvalues using np.linalg.eig by inputting the covariance matrix\n",
    "    # np.linalg.eigh is used to compute the eigen values and eigen vectors of the covariance matrix\n",
    "    eigenvalues, eigenvectors = np.linalg.eigh(cov)\n",
    "\n",
    "    # Eigenvlaues represent the variance captures by each principak component \n",
    "    print(\"Eigenvalue shape: \", eigenvalues.shape) \n",
    "\n",
    "    # Eigen vectors represent the direction in the feature space\n",
    "    print(\"Eigenvectors shape: \", eigenvectors.shape)\n",
    "\n",
    "\n",
    "    # n'th principal components will be the first n'th eigenvectors with highes eigen values\n",
    "    # Sort them from biggest to smallest\n",
    "    ix = np.argsort(eigenvalues)[::-1]\n",
    "\n",
    "    if(n_components > eigenvalues.shape[0]):\n",
    "        raise Exception(\"You cannot have n_components more than number of features\")\n",
    "    else:\n",
    "        # [:, ix] sorts the columns of eigenvectors to match the sorted order of the eigenvalues. \n",
    "        # This is because each eigenvector corresponds to a specific eigenvalue, and we want to select the eigenvectors with the highest eigenvalues\n",
    "        eigenvalues, eigenvectors = eigenvalues[ix], eigenvectors[:, ix]\n",
    "\n",
    "        # n_components is a param indicating the no. of principal componencts to keep\n",
    "        # [:, n_components] selects only the top n_components eigenvector\n",
    "        eigenvalues, eigenvectors = eigenvalues[:n_components], eigenvectors[:, :n_components]\n",
    "\n",
    "    # variance gained after n' component\n",
    "    # This caluclates the cumulative variance explained by the selected components,\n",
    "    # helping to understancd the proportion of variance captured by each additional component\n",
    "    variance_exp_ratio = np.cumsum(eigenvalues)/np.sum(eigenvalues)\n",
    "\n",
    "    # Projection of new vectors\n",
    "    # Eigenvectors must be arranges inn columns\n",
    "    projected_X = X @ eigenvectors\n",
    "\n",
    "    print(\"Eigenvalues: \", eigenvalues)\n",
    "    print(\"eigenvectors (column-wise): \", eigenvectors)\n",
    "\n",
    "    return eigenvalues, eigenvectors, mean, projected_X\n",
    "\n",
    "\n"
   ]
  },
  {
   "cell_type": "code",
   "execution_count": 20,
   "metadata": {},
   "outputs": [
    {
     "name": "stdout",
     "output_type": "stream",
     "text": [
      "Covariance Matrix:  [[ 1.00671141 -0.11835884]\n",
      " [-0.11835884  1.00671141]]\n",
      "Eigenvalue shape:  (2,)\n",
      "Eigenvectors shape:  (2, 2)\n",
      "Eigenvalues:  [1.12507025 0.88835257]\n",
      "eigenvectors (column-wise):  [[-0.70710678 -0.70710678]\n",
      " [ 0.70710678 -0.70710678]]\n"
     ]
    }
   ],
   "source": [
    "eigenvalues, eigenvectors, mean, projected_X = PCA(X, n_components=2)"
   ]
  },
  {
   "cell_type": "code",
   "execution_count": 21,
   "metadata": {},
   "outputs": [
    {
     "data": {
      "text/plain": [
       "Text(0.5, 1.0, 'PCA with orignal data')"
      ]
     },
     "execution_count": 21,
     "metadata": {},
     "output_type": "execute_result"
    },
    {
     "data": {
      "image/png": "[encoded data removed]",
      "text/plain": [
       "<Figure size 640x480 with 1 Axes>"
      ]
     },
     "metadata": {},
     "output_type": "display_data"
    }
   ],
   "source": [
    "# Plotting\n",
    "def draw_vector(v0, v1, ax=None):\n",
    "\n",
    "    # sets ax to the current axes if no axes ar eprovided\n",
    "    ax = ax or plt.gca()\n",
    "\n",
    "    arrowprops = dict(arrowstyle='->',\n",
    "                      linewidth=2,\n",
    "\n",
    "                    #   Removes any space b/w the arrow head/tail and the specified start and end points\n",
    "                      shrinkA=0,\n",
    "                      shrinkB=0,\n",
    "                      color='green')\n",
    "    \n",
    "    # Draws the arrow on the plot from v0 to v1 using the specified properties\n",
    "    ax.annotate('', v1, v0, arrowprops=arrowprops)\n",
    "\n",
    "plt.scatter(X[:, 0], X[:, 1], alpha=0.2, color='orange')\n",
    "\n",
    "# Transpose so each row is eigenvector\n",
    "# The loop iterates over each principal component and draws a scaled vector representing that component\n",
    "# zip pairs each eignevalue with its corresponding eigenvector\n",
    "for length, vector in zip(eigenvalues, eigenvectors.T):\n",
    "\n",
    "    # Scales the eigenvector by the square root of its eigenvalue and futher by 3 for better visibility in the plot\n",
    "    v = vector * 3 * np.sqrt(length)\n",
    "\n",
    "    # draws the vector from the mean of the data to the end point of the vector(mean+v)\n",
    "    # This shows the direction and magnitude of each principal component originating from the center of the data\n",
    "    draw_vector(mean, mean+v)\n",
    "\n",
    "plt.axis('equal')\n",
    "plt.title('PCA with orignal data')"
   ]
  },
  {
   "cell_type": "markdown",
   "metadata": {},
   "source": [
    "**Data Points:** The scatter plot (in orange) shows the original dataset, with each point representing an ibsrvation in 2-d space based on the selected features. The transparency (alpha = 0.2) makes overlapping points easier to notice\n",
    "\n",
    "**Principal Components:** The green arrows represent components of the data:\n",
    "- The **longer green arrow** points in the direction of the first principal component, which is the direction of maimum variance in the data. This indicates the direction aling whchhi the data is most spread out.\n",
    "\n",
    "- The **second green arrow** shows the second principal component, which captures the second-largest variance in the data after the first component\n",
    "\n",
    "**Mean-centerd:** Both arrows originate from the mean of the data, which is close to the center of the data points. This confirms the data has been centered before applying PCA.\n",
    "\n",
    "**Variance Direction and Speed:**\n",
    "- The first principal component (longer arrow) points toward the direction of max variance, which means the data varies most along this direction\n",
    "- The shorter arrow shows the secondary direction of variation. togetherm these rwo vvectors represent the maine structure or pattern in the data \n",
    " "
   ]
  },
  {
   "cell_type": "markdown",
   "metadata": {},
   "source": []
  }
 ],
 "metadata": {
  "kernelspec": {
   "display_name": "Python 3",
   "language": "python",
   "name": "python3"
  },
  "language_info": {
   "codemirror_mode": {
    "name": "ipython",
    "version": 3
   },
   "file_extension": ".py",
   "mimetype": "text/x-python",
   "name": "python",
   "nbconvert_exporter": "python",
   "pygments_lexer": "ipython3",
   "version": "3.12.5"
  }
 },
 "nbformat": 4,
 "nbformat_minor": 2
}
